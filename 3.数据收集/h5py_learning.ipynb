{
 "cells": [
  {
   "cell_type": "code",
   "execution_count": 1,
   "metadata": {},
   "outputs": [],
   "source": [
    "import h5py\n",
    "import numpy as np\n",
    "# 不同模式对文件进行创建、读取、读写\n",
    "f1 = h5py.File('f1.hdf5','w')\n",
    "f1 = h5py.File('f1.hdf5','r+')\n",
    "# f2 = h5py.File('f2.hdf5','w-')\n",
    "# f2 = h5py.File('f2.hdf5','x')\n",
    "f3 = h5py.File('f3.hdf5','a')"
   ]
  },
  {
   "cell_type": "markdown",
   "metadata": {},
   "source": [
    "#### 一、访问文件"
   ]
  },
  {
   "cell_type": "code",
   "execution_count": 2,
   "metadata": {},
   "outputs": [
    {
     "name": "stdout",
     "output_type": "stream",
     "text": [
      "f1.hdf5\n",
      "<h5py.h5f.FileID object at 0x7fd7257bc620>\n",
      "sec2\n"
     ]
    }
   ],
   "source": [
    "# 使用f的接口\n",
    "print(f1.filename)\n",
    "print(f1.id)\n",
    "print(f1.driver)"
   ]
  },
  {
   "cell_type": "markdown",
   "metadata": {},
   "source": [
    "#### 二、访问group"
   ]
  },
  {
   "cell_type": "code",
   "execution_count": 3,
   "metadata": {},
   "outputs": [],
   "source": [
    "# 创建/编辑文件的组\n",
    "# 使用create_group()\n",
    "f = h5py.File('f1.hdf5','r+')\n",
    "g1 = f.create_group('g1')\n",
    "g2 = f.create_group('g2')\n",
    "g11 = f.create_group('g1/g11')\n",
    "g12 = f.create_group('g1/g12')\n",
    "g21 = f.create_group('g2/g21')\n",
    "g22 = f.create_group('g2/g22')"
   ]
  },
  {
   "cell_type": "code",
   "execution_count": 4,
   "metadata": {},
   "outputs": [
    {
     "data": {
      "text/plain": [
       "<KeysViewHDF5 ['g1', 'g2']>"
      ]
     },
     "execution_count": 4,
     "metadata": {},
     "output_type": "execute_result"
    }
   ],
   "source": [
    "f.keys()"
   ]
  },
  {
   "cell_type": "markdown",
   "metadata": {},
   "source": [
    "##### （一）访问group的属性"
   ]
  },
  {
   "cell_type": "code",
   "execution_count": 5,
   "metadata": {},
   "outputs": [
    {
     "name": "stdout",
     "output_type": "stream",
     "text": [
      "-----------访问id属性-----------------\n",
      "name:     g1, id: <h5py.h5g.GroupID object at 0x7fd7257bc9e8>\n",
      "name: g1/g11, id: <h5py.h5g.GroupID object at 0x7fd7257bc9e8>\n",
      "name: g1/g12, id: <h5py.h5g.GroupID object at 0x7fd7257bc9e8>\n",
      "name:     g2, id: <h5py.h5g.GroupID object at 0x7fd7257bc9e8>\n",
      "name: g2/g21, id: <h5py.h5g.GroupID object at 0x7fd7257bc9e8>\n",
      "name: g2/g22, id: <h5py.h5g.GroupID object at 0x7fd7257bc9e8>\n",
      "-----------访问ref属性----------------\n",
      "name:     g1, ref: <HDF5 object reference>\n",
      "name: g1/g11, ref: <HDF5 object reference>\n",
      "name: g1/g12, ref: <HDF5 object reference>\n",
      "name:     g2, ref: <HDF5 object reference>\n",
      "name: g2/g21, ref: <HDF5 object reference>\n",
      "name: g2/g22, ref: <HDF5 object reference>\n",
      "-----------访问regionref属性----------\n",
      "name:     g1, regionref: <h5py._hl.base._RegionProxy object at 0x7fd7257e1828>\n",
      "name: g1/g11, regionref: <h5py._hl.base._RegionProxy object at 0x7fd7257e1828>\n",
      "name: g1/g12, regionref: <h5py._hl.base._RegionProxy object at 0x7fd7257e1828>\n",
      "name:     g2, regionref: <h5py._hl.base._RegionProxy object at 0x7fd7257e1860>\n",
      "name: g2/g21, regionref: <h5py._hl.base._RegionProxy object at 0x7fd7257e1860>\n",
      "name: g2/g22, regionref: <h5py._hl.base._RegionProxy object at 0x7fd7257e1860>\n",
      "-----------访问name属性---------------\n",
      "name:     g1, name: /g1\n",
      "name: g1/g11, name: /g1/g11\n",
      "name: g1/g12, name: /g1/g12\n",
      "name:     g2, name: /g2\n",
      "name: g2/g21, name: /g2/g21\n",
      "name: g2/g22, name: /g2/g22\n",
      "-----------访问id属性-----------------\n",
      "name:     g1, parent: <HDF5 group \"/\" (2 members)>\n",
      "name: g1/g11, parent: <HDF5 group \"/g1\" (2 members)>\n",
      "name: g1/g12, parent: <HDF5 group \"/g1\" (2 members)>\n",
      "name:     g2, parent: <HDF5 group \"/\" (2 members)>\n",
      "name: g2/g21, parent: <HDF5 group \"/g2\" (2 members)>\n",
      "name: g2/g22, parent: <HDF5 group \"/g2\" (2 members)>\n"
     ]
    }
   ],
   "source": [
    "# id属性\n",
    "print('-----------访问id属性-----------------')\n",
    "def print_id(name,obj):\n",
    "    print('name: %6s, id: %s' %(name,obj.id))\n",
    "f.visititems(print_id)\n",
    "# ref 引用\n",
    "print('-----------访问ref属性----------------')\n",
    "def print_ref(name,obj):\n",
    "    print('name: %6s, ref: %s' %(name,obj.ref))\n",
    "f.visititems(print_ref)\n",
    "# regionref 代理\n",
    "print('-----------访问regionref属性----------')\n",
    "def print_regionref(name,obj):\n",
    "    print('name: %6s, regionref: %s' %(name,obj.regionref))\n",
    "f.visititems(print_regionref)\n",
    "# name 路径\n",
    "print('-----------访问name属性---------------')\n",
    "def print_name(name,obj):\n",
    "    print('name: %6s, name: %s' %(name,obj.name))\n",
    "f.visititems(print_name)\n",
    "# parent 包含当前group的组\n",
    "print('-----------访问id属性-----------------')\n",
    "def print_parent(name,obj):\n",
    "    print('name: %6s, parent: %s' %(name,obj.parent))\n",
    "f.visititems(print_parent)"
   ]
  },
  {
   "cell_type": "markdown",
   "metadata": {},
   "source": [
    "##### （二）访问group的方法"
   ]
  },
  {
   "cell_type": "code",
   "execution_count": 6,
   "metadata": {},
   "outputs": [
    {
     "name": "stdout",
     "output_type": "stream",
     "text": [
      "-----------使用keys()----------------\n",
      "第一层：g1\n",
      "第二层：g11\n",
      "第二层：g12\n",
      "第一层：g2\n",
      "第二层：g21\n",
      "第二层：g22\n",
      "-----------使用items()----------------\n",
      "第一层：f.item()直接返回结果为: ('g1', <HDF5 group \"/g1\" (2 members)>)\n",
      "第一层：f.item()[0]返回结果为: g1\n",
      "第一层：f.item()[1]返回结果为: <HDF5 group \"/g1\" (2 members)>\n",
      "第一层：f.item()直接返回结果为: ('g2', <HDF5 group \"/g2\" (2 members)>)\n",
      "第一层：f.item()[0]返回结果为: g2\n",
      "第一层：f.item()[1]返回结果为: <HDF5 group \"/g2\" (2 members)>\n",
      "-------\n",
      "第二层：.item()直接返回结果为: ('g11', <HDF5 group \"/g1/g11\" (0 members)>)\n",
      "第二层：.item()[0]返回结果为: g11\n",
      "第二层：.item()[1]返回结果为: <HDF5 group \"/g1/g11\" (0 members)>\n",
      "-------\n",
      "第二层：.item()直接返回结果为: ('g12', <HDF5 group \"/g1/g12\" (0 members)>)\n",
      "第二层：.item()[0]返回结果为: g12\n",
      "第二层：.item()[1]返回结果为: <HDF5 group \"/g1/g12\" (0 members)>\n",
      "-------\n",
      "第二层：.item()直接返回结果为: ('g21', <HDF5 group \"/g2/g21\" (0 members)>)\n",
      "第二层：.item()[0]返回结果为: g21\n",
      "第二层：.item()[1]返回结果为: <HDF5 group \"/g2/g21\" (0 members)>\n",
      "-------\n",
      "第二层：.item()直接返回结果为: ('g22', <HDF5 group \"/g2/g22\" (0 members)>)\n",
      "第二层：.item()[0]返回结果为: g22\n",
      "第二层：.item()[1]返回结果为: <HDF5 group \"/g2/g22\" (0 members)>\n",
      "-----------使用visit()----------------\n",
      "当前层group为：      g1\n",
      "当前层group为：  g1/g11\n",
      "当前层group为：  g1/g12\n",
      "当前层group为：      g2\n",
      "当前层group为：  g2/g21\n",
      "当前层group为：  g2/g22\n",
      "-----------使用visititems()----------------\n",
      "name:      /g1,file: <HDF5 file \"f1.hdf5\" (mode r+)>\n",
      "name:  /g1/g11,file: <HDF5 file \"f1.hdf5\" (mode r+)>\n",
      "name:  /g1/g12,file: <HDF5 file \"f1.hdf5\" (mode r+)>\n",
      "name:      /g2,file: <HDF5 file \"f1.hdf5\" (mode r+)>\n",
      "name:  /g2/g21,file: <HDF5 file \"f1.hdf5\" (mode r+)>\n",
      "name:  /g2/g22,file: <HDF5 file \"f1.hdf5\" (mode r+)>\n"
     ]
    }
   ],
   "source": [
    "# 类似字典的遍历形式，遍历每一个group/子group\n",
    "# 使用keys()\n",
    "# 返回结果示例：<KeysViewHDF5 ['g1', 'g2']>\n",
    "print('-----------使用keys()----------------')\n",
    "for g in f.keys():\n",
    "    # g是对象\n",
    "    print('第一层：%s' %g)\n",
    "    # 通过str将对象强制转换为字符串\n",
    "    if f[str(g)].keys():\n",
    "        # 通过key进行遍历\n",
    "        for g_ in f[str(g)].keys():\n",
    "            print('第二层：%s' %g_)\n",
    "# 使用items()\n",
    "# 返回结果示例：('g1', <HDF5 group \"/g1\" (2 members)>)\n",
    "print('-----------使用items()----------------')\n",
    "for gitem in f.items():\n",
    "    print('第一层：f.item()直接返回结果为: %s' %(str(gitem)))\n",
    "    print('第一层：f.item()[0]返回结果为: %s' %(str(gitem[0])))\n",
    "    print('第一层：f.item()[1]返回结果为: %s' %(str(gitem[1])))\n",
    "for gitem in f.items():\n",
    "    for g_item in gitem[1].items():\n",
    "        print('-------')\n",
    "        print('第二层：.item()直接返回结果为: %s' %(str(g_item)))\n",
    "        print('第二层：.item()[0]返回结果为: %s' %(str(g_item[0])))\n",
    "        print('第二层：.item()[1]返回结果为: %s' %(str(g_item[1])))\n",
    "\n",
    "# 使用visit(f(name))\n",
    "# 使用visit(f(name))可以遍历group中所有组和子组的name,并执行f(name),返回检索结果\n",
    "print('-----------使用visit()----------------')\n",
    "def find(name):\n",
    "    if 'g' in name:\n",
    "        # 设置return None，可以继续遍历\n",
    "        print('当前层group为：%8s' %name)\n",
    "        return None\n",
    "        # 若不是return None，则结束遍历\n",
    "        # return name\n",
    "f.visit(find)\n",
    "print('-----------使用visititems()----------------')\n",
    "# 使用visititems(f(name))\n",
    "# 使用visititems(f(name))可以遍历group中所有组和子组的object，并执行f(name),返回检索结果\n",
    "def itemfind(name,ob):\n",
    "    if ob.keys():\n",
    "        print('name: %8s,file: %s' %(ob.name,ob.file))\n",
    "    else:\n",
    "        print('name: %8s,file: %s' %(ob.name,ob.file))\n",
    "    return None\n",
    "f.visititems(itemfind)"
   ]
  },
  {
   "cell_type": "markdown",
   "metadata": {},
   "source": [
    "#### 三、访问dataset"
   ]
  },
  {
   "cell_type": "code",
   "execution_count": 35,
   "metadata": {},
   "outputs": [
    {
     "ename": "RuntimeError",
     "evalue": "Unable to create link (name already exists)",
     "output_type": "error",
     "traceback": [
      "\u001b[0;31m---------------------------------------------------------------------------\u001b[0m",
      "\u001b[0;31mRuntimeError\u001b[0m                              Traceback (most recent call last)",
      "\u001b[0;32m<ipython-input-35-8646d1695775>\u001b[0m in \u001b[0;36m<module>\u001b[0;34m\u001b[0m\n\u001b[1;32m     10\u001b[0m \u001b[0;31m# 创建dataset\u001b[0m\u001b[0;34m\u001b[0m\u001b[0;34m\u001b[0m\u001b[0m\n\u001b[1;32m     11\u001b[0m \u001b[0;31m# 直接指定形状和数组名\u001b[0m\u001b[0;34m\u001b[0m\u001b[0;34m\u001b[0m\u001b[0m\n\u001b[0;32m---> 12\u001b[0;31m \u001b[0md1\u001b[0m \u001b[0;34m=\u001b[0m \u001b[0mg11\u001b[0m\u001b[0;34m.\u001b[0m\u001b[0mcreate_dataset\u001b[0m\u001b[0;34m(\u001b[0m\u001b[0;34m'd1'\u001b[0m\u001b[0;34m,\u001b[0m\u001b[0;34m(\u001b[0m\u001b[0;36m100\u001b[0m\u001b[0;34m,\u001b[0m\u001b[0;36m1\u001b[0m\u001b[0;34m)\u001b[0m\u001b[0;34m)\u001b[0m\u001b[0;34m\u001b[0m\u001b[0m\n\u001b[0m\u001b[1;32m     13\u001b[0m \u001b[0;31m# 通过numpy数组初始化dataset\u001b[0m\u001b[0;34m\u001b[0m\u001b[0;34m\u001b[0m\u001b[0m\n\u001b[1;32m     14\u001b[0m \u001b[0mn\u001b[0m \u001b[0;34m=\u001b[0m \u001b[0mnp\u001b[0m\u001b[0;34m.\u001b[0m\u001b[0marange\u001b[0m\u001b[0;34m(\u001b[0m\u001b[0;36m0\u001b[0m\u001b[0;34m,\u001b[0m\u001b[0;36m100\u001b[0m\u001b[0;34m)\u001b[0m\u001b[0;34m\u001b[0m\u001b[0m\n",
      "\u001b[0;32m/usr/local/lib/python3.5/dist-packages/h5py/_hl/group.py\u001b[0m in \u001b[0;36mcreate_dataset\u001b[0;34m(self, name, shape, dtype, data, **kwds)\u001b[0m\n\u001b[1;32m    137\u001b[0m             \u001b[0mdset\u001b[0m \u001b[0;34m=\u001b[0m \u001b[0mdataset\u001b[0m\u001b[0;34m.\u001b[0m\u001b[0mDataset\u001b[0m\u001b[0;34m(\u001b[0m\u001b[0mdsid\u001b[0m\u001b[0;34m)\u001b[0m\u001b[0;34m\u001b[0m\u001b[0m\n\u001b[1;32m    138\u001b[0m             \u001b[0;32mif\u001b[0m \u001b[0mname\u001b[0m \u001b[0;32mis\u001b[0m \u001b[0;32mnot\u001b[0m \u001b[0;32mNone\u001b[0m\u001b[0;34m:\u001b[0m\u001b[0;34m\u001b[0m\u001b[0m\n\u001b[0;32m--> 139\u001b[0;31m                 \u001b[0mself\u001b[0m\u001b[0;34m[\u001b[0m\u001b[0mname\u001b[0m\u001b[0;34m]\u001b[0m \u001b[0;34m=\u001b[0m \u001b[0mdset\u001b[0m\u001b[0;34m\u001b[0m\u001b[0m\n\u001b[0m\u001b[1;32m    140\u001b[0m             \u001b[0;32mreturn\u001b[0m \u001b[0mdset\u001b[0m\u001b[0;34m\u001b[0m\u001b[0m\n\u001b[1;32m    141\u001b[0m \u001b[0;34m\u001b[0m\u001b[0m\n",
      "\u001b[0;32m/usr/local/lib/python3.5/dist-packages/h5py/_hl/group.py\u001b[0m in \u001b[0;36m__setitem__\u001b[0;34m(self, name, obj)\u001b[0m\n\u001b[1;32m    371\u001b[0m \u001b[0;34m\u001b[0m\u001b[0m\n\u001b[1;32m    372\u001b[0m             \u001b[0;32mif\u001b[0m \u001b[0misinstance\u001b[0m\u001b[0;34m(\u001b[0m\u001b[0mobj\u001b[0m\u001b[0;34m,\u001b[0m \u001b[0mHLObject\u001b[0m\u001b[0;34m)\u001b[0m\u001b[0;34m:\u001b[0m\u001b[0;34m\u001b[0m\u001b[0m\n\u001b[0;32m--> 373\u001b[0;31m                 \u001b[0mh5o\u001b[0m\u001b[0;34m.\u001b[0m\u001b[0mlink\u001b[0m\u001b[0;34m(\u001b[0m\u001b[0mobj\u001b[0m\u001b[0;34m.\u001b[0m\u001b[0mid\u001b[0m\u001b[0;34m,\u001b[0m \u001b[0mself\u001b[0m\u001b[0;34m.\u001b[0m\u001b[0mid\u001b[0m\u001b[0;34m,\u001b[0m \u001b[0mname\u001b[0m\u001b[0;34m,\u001b[0m \u001b[0mlcpl\u001b[0m\u001b[0;34m=\u001b[0m\u001b[0mlcpl\u001b[0m\u001b[0;34m,\u001b[0m \u001b[0mlapl\u001b[0m\u001b[0;34m=\u001b[0m\u001b[0mself\u001b[0m\u001b[0;34m.\u001b[0m\u001b[0m_lapl\u001b[0m\u001b[0;34m)\u001b[0m\u001b[0;34m\u001b[0m\u001b[0m\n\u001b[0m\u001b[1;32m    374\u001b[0m \u001b[0;34m\u001b[0m\u001b[0m\n\u001b[1;32m    375\u001b[0m             \u001b[0;32melif\u001b[0m \u001b[0misinstance\u001b[0m\u001b[0;34m(\u001b[0m\u001b[0mobj\u001b[0m\u001b[0;34m,\u001b[0m \u001b[0mSoftLink\u001b[0m\u001b[0;34m)\u001b[0m\u001b[0;34m:\u001b[0m\u001b[0;34m\u001b[0m\u001b[0m\n",
      "\u001b[0;32mh5py/_objects.pyx\u001b[0m in \u001b[0;36mh5py._objects.with_phil.wrapper\u001b[0;34m()\u001b[0m\n",
      "\u001b[0;32mh5py/_objects.pyx\u001b[0m in \u001b[0;36mh5py._objects.with_phil.wrapper\u001b[0;34m()\u001b[0m\n",
      "\u001b[0;32mh5py/h5o.pyx\u001b[0m in \u001b[0;36mh5py.h5o.link\u001b[0;34m()\u001b[0m\n",
      "\u001b[0;31mRuntimeError\u001b[0m: Unable to create link (name already exists)"
     ]
    }
   ],
   "source": [
    "# 创建/编辑文件的dataset\n",
    "# 获取group\n",
    "f = h5py.File('f1.hdf5','r+')\n",
    "g1 = f['g1']\n",
    "g2 = f['g2']\n",
    "g11 = g1['g11']\n",
    "g12 = g1['g12']\n",
    "g21 = g2['g21']\n",
    "g22 = g2['g22']\n",
    "# 创建dataset\n",
    "# 直接指定形状和数组名\n",
    "d1 = g11.create_dataset('d1',(100,1))\n",
    "# 通过numpy数组初始化dataset\n",
    "n = np.arange(0,100)\n",
    "d2 = g12.create_dataset('d2',data=n)\n",
    "# 指定某一group下的dataset\n",
    "d = g11['d1']"
   ]
  },
  {
   "cell_type": "markdown",
   "metadata": {},
   "source": [
    "##### （一）访问dataset的属性"
   ]
  },
  {
   "cell_type": "code",
   "execution_count": 33,
   "metadata": {},
   "outputs": [
    {
     "name": "stdout",
     "output_type": "stream",
     "text": [
      "  1, 10, 11, 12, 13, 14, 15, 16, 17, 18, 19,  2, 20, 21, 22, 23, 24, 25, 26, 27, 28, 29,  3, 30, 31, 32, 33, 34, 35, 36, 37, 38, 39,  4, 40, 41, 42, 43, 44, 45, 46, 47, 48, 49,  5, 50, 51, 52, 53, 54, 55, 56, 57, 58, 59,  6, 60, 61, 62, 63, 64, 65, 66, 67, 68, 69,  7, 70, 71, 72, 73, 74, 75, 76, 77, 78, 79,  8, 80, 81, 82, 83, 84, 85, 86, 87, 88, 89,  9, 90, 91, 92, 93, 94, 95, 96, 97, 98, 99,"
     ]
    }
   ],
   "source": [
    "# 使用dataset.attrs['name']进行赋值\n",
    "for i in range(1,100):\n",
    "    d1.attrs[str(i)] = i**2\n",
    "# 使用dataset.attrs展示dataset的属性\n",
    "for attr in d1.attrs:\n",
    "    print('%3s,' %(attr),end='')\n",
    "# 获取同一group下的所有dataset\n",
    "def find_dst(name,obj):\n",
    "    if "
   ]
  },
  {
   "cell_type": "code",
   "execution_count": 34,
   "metadata": {},
   "outputs": [
    {
     "data": {
      "text/plain": [
       "<Attributes of HDF5 object at 140247937543160>"
      ]
     },
     "execution_count": 34,
     "metadata": {},
     "output_type": "execute_result"
    }
   ],
   "source": [
    "g1.attrs"
   ]
  },
  {
   "cell_type": "code",
   "execution_count": 21,
   "metadata": {},
   "outputs": [
    {
     "data": {
      "text/plain": [
       "9801"
      ]
     },
     "execution_count": 21,
     "metadata": {},
     "output_type": "execute_result"
    }
   ],
   "source": [
    "d1.attrs['99']"
   ]
  },
  {
   "cell_type": "code",
   "execution_count": null,
   "metadata": {},
   "outputs": [],
   "source": []
  }
 ],
 "metadata": {
  "kernelspec": {
   "display_name": "Python 3",
   "language": "python",
   "name": "python3"
  },
  "language_info": {
   "codemirror_mode": {
    "name": "ipython",
    "version": 3
   },
   "file_extension": ".py",
   "mimetype": "text/x-python",
   "name": "python",
   "nbconvert_exporter": "python",
   "pygments_lexer": "ipython3",
   "version": "3.5.2"
  }
 },
 "nbformat": 4,
 "nbformat_minor": 4
}
